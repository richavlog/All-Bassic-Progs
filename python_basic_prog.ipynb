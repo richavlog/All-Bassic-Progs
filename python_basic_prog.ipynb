{
 "cells": [
  {
   "cell_type": "markdown",
   "id": "62a99628",
   "metadata": {},
   "source": [
    "# factorial prog\n"
   ]
  },
  {
   "cell_type": "code",
   "execution_count": 5,
   "id": "16102fce",
   "metadata": {},
   "outputs": [
    {
     "name": "stdout",
     "output_type": "stream",
     "text": [
      "enter a number4\n",
      "24\n"
     ]
    }
   ],
   "source": [
    "x=int(input(\"enter a number\"))\n",
    "f=1\n",
    "for i in range(1,x+1):\n",
    "    f=f*i\n",
    "    \n",
    "print(f)    \n",
    "    "
   ]
  },
  {
   "cell_type": "markdown",
   "id": "9eb2c9aa",
   "metadata": {},
   "source": [
    "# fibonacci series"
   ]
  },
  {
   "cell_type": "code",
   "execution_count": 15,
   "id": "bd51ccc3",
   "metadata": {},
   "outputs": [
    {
     "name": "stdout",
     "output_type": "stream",
     "text": [
      "enter a value8\n",
      "1 2 3 5 8 13 21 34 "
     ]
    }
   ],
   "source": [
    "x=int(input(\"enter a value\"))\n",
    "a=0\n",
    "b=1\n",
    "count=0\n",
    "for i in range(0,x):\n",
    "    next=a+(b)\n",
    "    print(next,end=\" \")\n",
    "    a=b\n",
    "    b=next\n",
    "    count+=1\n",
    "    "
   ]
  },
  {
   "cell_type": "markdown",
   "id": "41a30995",
   "metadata": {},
   "source": [
    "# palindrome\n"
   ]
  },
  {
   "cell_type": "code",
   "execution_count": 23,
   "id": "0713f850",
   "metadata": {
    "scrolled": true
   },
   "outputs": [
    {
     "name": "stdout",
     "output_type": "stream",
     "text": [
      "Enter a letter:javaj\n",
      "The letter is a palindrome\n"
     ]
    }
   ],
   "source": [
    "#for word palindrome\n",
    "\n",
    "text=input((\"Enter a letter:\"))  \n",
    "if(text==text[::-1]):  \n",
    "      print(\"The letter is a palindrome\")  \n",
    "else:  \n",
    "      print(\"The letter is not a palindrome\")  "
   ]
  },
  {
   "cell_type": "code",
   "execution_count": 28,
   "id": "9368d6e5",
   "metadata": {
    "scrolled": false
   },
   "outputs": [
    {
     "name": "stdout",
     "output_type": "stream",
     "text": [
      "enter a number102\n",
      "not palindrome\n"
     ]
    }
   ],
   "source": [
    "#for number palindrome\n",
    "\n",
    "x=int(input(\"enter a number\"))\n",
    "y=x\n",
    "sum=0\n",
    "while x>0:\n",
    "    r=x%10\n",
    "    sum=sum*10+r\n",
    "    x=int(x/10)\n",
    "if sum==y:\n",
    "    print(\"palindrome\")\n",
    "else:\n",
    "    print(\"not palindrome\")\n",
    "    "
   ]
  },
  {
   "cell_type": "markdown",
   "id": "693bad9b",
   "metadata": {},
   "source": [
    "# prime number"
   ]
  },
  {
   "cell_type": "code",
   "execution_count": 31,
   "id": "06232f09",
   "metadata": {},
   "outputs": [
    {
     "name": "stdout",
     "output_type": "stream",
     "text": [
      "enter a squence9\n",
      "enter value prime number\n"
     ]
    }
   ],
   "source": []
  },
  {
   "cell_type": "code",
   "execution_count": null,
   "id": "84a532bb",
   "metadata": {},
   "outputs": [],
   "source": []
  },
  {
   "cell_type": "code",
   "execution_count": null,
   "id": "9b6e0d5f",
   "metadata": {},
   "outputs": [],
   "source": []
  }
 ],
 "metadata": {
  "kernelspec": {
   "display_name": "Python 3 (ipykernel)",
   "language": "python",
   "name": "python3"
  },
  "language_info": {
   "codemirror_mode": {
    "name": "ipython",
    "version": 3
   },
   "file_extension": ".py",
   "mimetype": "text/x-python",
   "name": "python",
   "nbconvert_exporter": "python",
   "pygments_lexer": "ipython3",
   "version": "3.9.12"
  }
 },
 "nbformat": 4,
 "nbformat_minor": 5
}
